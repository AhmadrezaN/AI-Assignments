{
 "cells": [
  {
   "cell_type": "markdown",
   "metadata": {},
   "source": [
    "## Solving QAP with Simulated Annealing Algorithm\n",
    "\n",
    "##### AhmadReza Nopoush 610301194\n",
    "\n"
   ]
  },
  {
   "cell_type": "code",
   "execution_count": 1,
   "metadata": {},
   "outputs": [],
   "source": [
    "import random\n",
    "import math"
   ]
  },
  {
   "cell_type": "markdown",
   "metadata": {},
   "source": [
    "at first we define function f. according to the homework f(x,y) = |sin x Cos y exp(|1 - sqrt(x^2+y^2)/pi|)\n",
    "\n",
    "the bound of x and y is -10 < x,y < 10"
   ]
  },
  {
   "cell_type": "code",
   "execution_count": 2,
   "metadata": {},
   "outputs": [],
   "source": [
    "def f(x,y) -> float:\n",
    "    if abs(x) > 10 or abs(y)>10: \n",
    "        return\n",
    "    return abs(math.sin(x)*math.cos(y)*math.exp(abs(1-(math.sqrt(x**2+y**2)/math.pi))))\n"
   ]
  },
  {
   "cell_type": "code",
   "execution_count": 3,
   "metadata": {},
   "outputs": [],
   "source": [
    "class Particle_f:\n",
    "    def __init__(self,lower_bound:int,upper_bound:int) -> None:\n",
    "        \n",
    "        #upper_bound is high limit of variable x & y\n",
    "        self.upper_bound = upper_bound\n",
    "        \n",
    "        #lower_bound is low limit of variable x & y\n",
    "        self.lower_bound = lower_bound\n",
    "        \n",
    "        #x is chosen randomly in bound.\n",
    "        self.x = random.uniform(lower_bound,upper_bound)\n",
    "        \n",
    "        #y is chosen randomly in bound.\n",
    "        self.y = random.uniform(lower_bound,upper_bound)\n",
    "        \n",
    "        #function_value keeps the value of the function. for this problem we want to maximize function_value.\n",
    "        self.function_value = f(self.x,self.y)\n",
    "        \n",
    "        #best keeps the best solution for a particle that ever found.\n",
    "        self.best = [self.x,self.y]\n",
    "        \n",
    "        #velocity keeps the velocity of each particle.\n",
    "        self.velocity = [0,0]\n",
    "        \n",
    "        \n",
    "    #return Velocity of a particle in a iteration.\n",
    "    def Velocity(self,w,c1,c2,G_best) -> list:\n",
    "        V = [0,0]\n",
    "        V[0] = w*self.velocity[0] + c1*random.random()*(self.best[0]-self.x) + c2*random.random()*(G_best[0]-self.x)\n",
    "        V[1] = w*self.velocity[1] + c1*random.random()*(self.best[1]-self.y) + c2*random.random()*(G_best[1]-self.y)\n",
    "        return V\n",
    "    \n",
    "    #Updates V, x, y, function_value and best for a iteration.\n",
    "    def Update(self,w,c1,c2,G_best):\n",
    "        self.velocity = self.Velocity(w,c1,c2,G_best)\n",
    "        self.x += self.velocity[0]\n",
    "        self.y += self.velocity[1]\n",
    "        \n",
    "        if self.x > self.upper_bound:\n",
    "            self.x = self.upper_bound\n",
    "        if self.x < self.lower_bound:\n",
    "            self.x = self.lower_bound\n",
    "        if self.y < self.lower_bound:\n",
    "            self.y = self.lower_bound\n",
    "        if self.y > self.upper_bound:\n",
    "            self.y = self.upper_bound\n",
    "        \n",
    "        if (f(self.x,self.y) > self.function_value):\n",
    "            self.best = [self.x,self.y]\n",
    "        self.function_value = f(self.x,self.y)"
   ]
  },
  {
   "cell_type": "code",
   "execution_count": 4,
   "metadata": {},
   "outputs": [],
   "source": [
    "#main Algorithm\n",
    "def PSO_find_maximum(w:float, c1:float, c2:float, population:int,iteration:int,lb:int,ub:int) -> float:\n",
    "    \n",
    "    #a list of particles\n",
    "    Particles = [Particle_f(lb,ub) for p in range(population)]\n",
    "    Particles.sort(key= lambda x: x.function_value)\n",
    "    \n",
    "    #G_best is best Solution that ever found.\n",
    "    G_best = [Particles[-1].x,Particles[-1].y]\n",
    "    \n",
    "    #for each iteration do:\n",
    "    for _ in range(iteration):\n",
    "        \n",
    "        #for each particle do:\n",
    "        for p in Particles:\n",
    "            p.Update(w,c1,c2,G_best)\n",
    "            \n",
    "        #check if a better Solution found than G_best    \n",
    "        Particles.sort(key= lambda x: x.function_value)\n",
    "        if f(Particles[-1].x,Particles[-1].y) > f(G_best[0],G_best[1]):\n",
    "            G_best = [Particles[-1].x,Particles[-1].y]\n",
    "\n",
    "        #print(_,Particles[-1].x,Particles[-1].y,f(Particles[-1].x,Particles[-1].y))\n",
    "    return G_best,f(G_best[0],G_best[1])\n",
    "    "
   ]
  },
  {
   "cell_type": "code",
   "execution_count": 5,
   "metadata": {},
   "outputs": [
    {
     "data": {
      "text/plain": [
       "([8.055023481807638, -9.664590029100562], 19.208502567886754)"
      ]
     },
     "execution_count": 5,
     "metadata": {},
     "output_type": "execute_result"
    }
   ],
   "source": [
    "PSO_find_maximum(0.5,1,0.5,100,100,-10,10)"
   ]
  },
  {
   "cell_type": "markdown",
   "metadata": {},
   "source": [
    "### Results:\n",
    "\n",
    "in 20 times of running, we got the answer ([8.055023479952993, -9.664590005991787]) with value 19.208502567886754.\n",
    "\n",
    "notice that due to abstraction role in f, the x and y might be x = 8.05 or x = -8.05, y = -9.66 or y = 9.66\n",
    "\n"
   ]
  },
  {
   "cell_type": "markdown",
   "metadata": {},
   "source": [
    "### Minimizing g\n",
    "\n",
    "now we define function g.\n",
    "\n",
    "the domain of g is -100 < x,y < 100"
   ]
  },
  {
   "cell_type": "code",
   "execution_count": 6,
   "metadata": {},
   "outputs": [],
   "source": [
    "def g(x,y) -> float:\n",
    "    if abs(x) > 100 or abs(y)>100: \n",
    "        return\n",
    "    \n",
    "    #I used try-exept becuase there could be division to zero.\n",
    "    try:\n",
    "        return (x*math.sin(math.pi*math.cos(x)*math.tan(y))*math.sin(y/x))/(1+math.cos(y/x))\n",
    "    \n",
    "    except:\n",
    "        x+=1\n",
    "        return (x*math.sin(math.pi*math.cos(x)*math.tan(y))*math.sin(y/x))/(1+math.cos(y/x))\n",
    "    "
   ]
  },
  {
   "cell_type": "code",
   "execution_count": 7,
   "metadata": {},
   "outputs": [],
   "source": [
    "class Particle_g:\n",
    "    def __init__(self,lower_bound:int,upper_bound:int) -> None:\n",
    "        \n",
    "        #upper_bound is high limit of variable x & y\n",
    "        self.upper_bound = upper_bound\n",
    "        \n",
    "        #lower_bound is low limit of variable x & y\n",
    "        self.lower_bound = lower_bound\n",
    "        \n",
    "        #x is chosen randomly in bound.\n",
    "        self.x = random.uniform(lower_bound,upper_bound)\n",
    "        \n",
    "        #y is chosen randomly in bound.\n",
    "        self.y = random.uniform(lower_bound,upper_bound)\n",
    "        \n",
    "        #function_value keeps the value of the function. for this problem we want to minimize function_value.\n",
    "        self.function_value = g(self.x,self.y)\n",
    "        \n",
    "        #best keeps the best solution for a particle that ever found.\n",
    "        self.best = [self.x,self.y]\n",
    "        \n",
    "        #velocity keeps the velocity of each particle.\n",
    "        self.velocity = [0,0]\n",
    "        \n",
    "    #return Velocity of a particle in a iteration.    \n",
    "    def Velocity(self,w,c1,c2,G_best) -> list:\n",
    "        V = [0,0]\n",
    "        V[0] = w*self.velocity[0] + c1*random.random()*(self.best[0]-self.x) + c2*random.random()*(G_best[0]-self.x)\n",
    "        V[1] = w*self.velocity[1] + c1*random.random()*(self.best[1]-self.y) + c2*random.random()*(G_best[1]-self.y)\n",
    "        return V\n",
    "    \n",
    "    #Updates V, x, y, function_value and best for a iteration.\n",
    "    def Update(self,w,c1,c2,G_best):\n",
    "        self.velocity = self.Velocity(w,c1,c2,G_best)\n",
    "        self.x += self.velocity[0]\n",
    "        self.y += self.velocity[1]\n",
    "        \n",
    "        if self.x > self.upper_bound:\n",
    "            self.x = self.upper_bound\n",
    "        if self.x < self.lower_bound:\n",
    "            self.x = self.lower_bound\n",
    "        if self.y < self.lower_bound:\n",
    "            self.y = self.lower_bound\n",
    "        if self.y > self.upper_bound:\n",
    "            self.y = self.upper_bound\n",
    "        \n",
    "        if (g(self.x,self.y) < self.function_value):\n",
    "            self.best = [self.x,self.y]\n",
    "        self.function_value = g(self.x,self.y)"
   ]
  },
  {
   "cell_type": "code",
   "execution_count": 8,
   "metadata": {},
   "outputs": [],
   "source": [
    "#main Algoritm\n",
    "def PSO_find_minimum(w:float, c1:float, c2:float, population:int,iteration:int,lb:int,ub:int) -> float:\n",
    "    \n",
    "    Particles = [Particle_g(lb,ub) for p in range(population)]\n",
    "    Particles.sort(key= lambda x: x.function_value)\n",
    "    \n",
    "    #G_best is best Solution that ever found.\n",
    "    G_best = [Particles[0].x,Particles[0].y]\n",
    "    \n",
    "    #for each iteration do:\n",
    "    for _ in range(iteration):\n",
    "        \n",
    "        #for each particle do:\n",
    "        for p in Particles:\n",
    "            p.Update(w,c1,c2,G_best)\n",
    "            \n",
    "        #check if a better Solution found than G_best      \n",
    "        Particles.sort(key= lambda x: x.function_value)\n",
    "        if g(Particles[0].x,Particles[0].y) < g(G_best[0],G_best[1]):\n",
    "            G_best = [Particles[0].x,Particles[0].y]\n",
    "\n",
    "        #print(_,Particles[0].x,Particles[0].y,g(Particles[0].x,Particles[0].y))\n",
    "    return G_best,g(G_best[0],G_best[1])"
   ]
  },
  {
   "cell_type": "code",
   "execution_count": 9,
   "metadata": {},
   "outputs": [
    {
     "data": {
      "text/plain": [
       "([-31.83098880329145, -100], -5196468637.692171)"
      ]
     },
     "execution_count": 9,
     "metadata": {},
     "output_type": "execute_result"
    }
   ],
   "source": [
    "PSO_find_minimum(1,1,2,500,700,-100,100)"
   ]
  },
  {
   "cell_type": "markdown",
   "metadata": {},
   "source": [
    "### Results:\n",
    "\n",
    "in 20 times of running, we got the answer [31.83098880329145, 100] with value -5196468637.692171.\n",
    "\n",
    "notice that due to abstraction role in f, the x and y might be x = 31.83 or x = -31.83, y = -100 or y = 100\n",
    "\n"
   ]
  }
 ],
 "metadata": {
  "kernelspec": {
   "display_name": "Python 3",
   "language": "python",
   "name": "python3"
  },
  "language_info": {
   "codemirror_mode": {
    "name": "ipython",
    "version": 3
   },
   "file_extension": ".py",
   "mimetype": "text/x-python",
   "name": "python",
   "nbconvert_exporter": "python",
   "pygments_lexer": "ipython3",
   "version": "3.12.2"
  }
 },
 "nbformat": 4,
 "nbformat_minor": 2
}
