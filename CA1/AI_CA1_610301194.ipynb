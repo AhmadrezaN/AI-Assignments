{
 "cells": [
  {
   "cell_type": "markdown",
   "metadata": {},
   "source": [
    "## Computer Assignment 1\n",
    "\n",
    "AhmadReza Nopoush\n",
    "\n",
    "id: 610301194"
   ]
  },
  {
   "cell_type": "markdown",
   "metadata": {},
   "source": [
    "### Part 1: Initialization"
   ]
  },
  {
   "cell_type": "markdown",
   "metadata": {},
   "source": [
    "#### importing libraries:"
   ]
  },
  {
   "cell_type": "code",
   "execution_count": 1,
   "metadata": {},
   "outputs": [],
   "source": [
    "from game import Game\n",
    "import time\n",
    "import os\n",
    "import re\n",
    "import queue\n",
    "import heapq"
   ]
  },
  {
   "cell_type": "markdown",
   "metadata": {},
   "source": [
    "#### Loading maps:"
   ]
  },
  {
   "cell_type": "code",
   "execution_count": 2,
   "metadata": {},
   "outputs": [],
   "source": [
    "def extract_map_files(directory):\n",
    "    pattern = re.compile(r'^map(\\d+)\\.txt$')\n",
    "    map_file_indices = []\n",
    "\n",
    "    for file_name in os.listdir(directory):\n",
    "        match = pattern.match(file_name)\n",
    "        if match:\n",
    "            map_file_indices.append(match.group(1))\n",
    "\n",
    "    return [int(idx) for idx in map_file_indices]\n",
    "\n",
    "def is_valid_input(map, indices, algorithm, solvers):\n",
    "    valid_input = True\n",
    "    if map not in indices:\n",
    "        print(f\"Map index out of range. Please choose within range {min(indices)} to {max(indices)}\")\n",
    "        valid_input = False\n",
    "    if algorithm not in solvers.keys():    \n",
    "        print(f\"{algorithm} is not a defined algorithm. Please choose from\", *[f\"{solver} ({i+1})  \" for i, solver in enumerate(solvers.keys())])\n",
    "        valid_input = False\n",
    "    return valid_input\n",
    "\n",
    "def load_map(map_index):  \n",
    "    file_name = \"map\" + str(map_index) + \".txt\"\n",
    "    with open('./assets/maps/' + file_name) as f:\n",
    "        game_map = f.read()\n",
    "    return game_map\n",
    "\n",
    "map_file_indices = extract_map_files(\"./assets/maps/\")"
   ]
  },
  {
   "cell_type": "markdown",
   "metadata": {},
   "source": [
    "#### Load a map:"
   ]
  },
  {
   "cell_type": "code",
   "execution_count": 3,
   "metadata": {},
   "outputs": [
    {
     "name": "stdout",
     "output_type": "stream",
     "text": [
      "This is an example of the game map:\n",
      "W\tW\tW\tW\tW\tW\tW\tW\tW\tW\tW\tW\n",
      "W\t.\t.\t.\t.\t.\t.\tW\t.\t.\t.\tW\n",
      "W\t.\t.\t.\tB2\t.\t.\tW\t.\tG1\t.\tW\n",
      "W\t.\t.\t.\t.\t.\t.\tW\tG4\tP1\tG2\tW\n",
      "W\t.\t.\t.\t.\t.\t.\tW\t.\tG3\t.\tW\n",
      "W\tW\tW\tW\tW\tW\t.\tW\tW\tW\tW\tW\n",
      "W\t.\t.\t.\t.\t.\t.\t.\t.\t.\t.\tW\n",
      "W\t.\t.\t.\t.\tB4\t.\t.\t.\t.\t.\tW\n",
      "W\t.\t.\tH\tB3\t.\t.\tP1\tB1\t.\t.\tW\n",
      "W\t.\t.\t.\t.\t.\t.\t.\t.\t.\t.\tW\n",
      "W\t.\t.\t.\t.\t.\t.\t.\t.\t.\t.\tW\n",
      "W\tW\tW\tW\tW\tW\tW\tW\tW\tW\tW\tW\n"
     ]
    }
   ],
   "source": [
    "print(\"This is an example of the game map:\")\n",
    "map = load_map(9)\n",
    "game = Game(map)\n",
    "game.display_map()"
   ]
  },
  {
   "cell_type": "markdown",
   "metadata": {},
   "source": [
    "### Part 2: Question 1- 4"
   ]
  },
  {
   "cell_type": "markdown",
   "metadata": {},
   "source": [
    "**Question 1:** \n",
    "What can be considered as the definition of a state in this problem? The most obvious definition is the map of the warehouse at any given moment. What is the problem with this definition? How can it be improved?\n",
    "\n",
    "\n",
    "\n",
    "**Answer:** \n",
    "the problem of this definition is that a map includes redundant information (e.g., walls, portals and empty spaces that do not change). This leads to high memory usage and slower performance, because each time we should spend so much time on loading the map. Fortunately, we can represent the state using only the positions of the player and the boxes Instead of storing the entire map; because the only thing that changes in this game is Mike position and box locations. This reduces the state space significantly while retaining all necessary information.\n",
    "\n",
    "---"
   ]
  },
  {
   "cell_type": "markdown",
   "metadata": {},
   "source": [
    "**Question 2:** \n",
    "Based on your definition of a state, how would you define the actions?\n",
    "\n",
    "**Answer:** \n",
    "as it can be observed from ``GUI`` file and the game Rules, Mike can move to the neighbor houses, which means that he can go **Up** or **Down** or **Left** or **Right**. so we define action as below:\n",
    "- $ {{U, D, L, R }} $\n",
    "\n",
    "-----"
   ]
  },
  {
   "cell_type": "markdown",
   "metadata": {},
   "source": [
    "**Question 3:** \n",
    "Explain how to model the problem, including the definition of actions, transitions, and the goal state.\n",
    "\n",
    "\n",
    "\n",
    "**Answer:** \n",
    "\n",
    "- States: Represented by the positions of the player and the boxes. I used ``tuple`` to work with it.\n",
    "\n",
    "- Actions: The four possible moves (U, D, L, R).\n",
    "\n",
    "- Transitions: Applying an action updates the player’s position and, if applicable, the box’s position. Portals are handled by teleporting the player or box to the corresponding portal exit. the ``Game`` library has an attribute named ``.apply_move()`` which can be used to see that if a move is valid and update the state if the move is valid.\n",
    "\n",
    "- Goal State: We achieve when all boxes are on their respective goal positions. we can use the attribute ``is_game_won()`` to check if Mike did the job or not.\n",
    "\n",
    "\n",
    "---"
   ]
  },
  {
   "cell_type": "markdown",
   "metadata": {},
   "source": [
    "**Question 4:** \n",
    "How can this problem be improved, and how can the search space be optimized? Should we expand all possible states in the next step of the search algorithms? What are the consequences of this? What measures and considerations can be taken to improve the problem?\n",
    "\n",
    "\n",
    "\n",
    "**Answer:** \n",
    "\n",
    "we can do optimization by:\n",
    "1. Use heuristic functions to guide the search, which we implement in A*\n",
    "2. Implement state pruning to avoid revisiting states. (for example using Visited Set)\n",
    "3. Use efficient data structures (e.g., priority queues for A* or sets to store visited states).\n",
    "4. Use iterative deepening (IDS) to balance memory usage and completeness.\n",
    "\n",
    "we have no choice but expanding all possible in next step if the map is difficult to solve. for more simple maps, if we have a good heuristic function, which shows us a good path to achieve the goal, we can ignore many states and travers the path which heuristic function says. \n",
    "\n",
    "\n",
    "---"
   ]
  },
  {
   "cell_type": "markdown",
   "metadata": {},
   "source": [
    "### Part 3: BFS"
   ]
  },
  {
   "cell_type": "markdown",
   "metadata": {},
   "source": [
    "BFS produce optimal solution, because it explores all the states level by level. Its main advatage is that it guarantees the shortest path and its disadvantages is it uses high memory for large state spaces.\n",
    "\n",
    "for implementing BFS, I define the Array of sets named ``Visited``, which each state that seen in BFS travers, will be stored in Visited. the reason that I implement in Array form is that when the size of set increases, the time complexity for search an element in set increases either, so I divide the Set into houses, each element of an array represents the position of the mike.\n",
    "\n",
    "BFS algoritms are based on queues. so I design a queue that contains 3-tuple: Mike_Position, Box_Positins and the path. the algorithm is clear. and you can read the comments and follow it.\n",
    "\n",
    "another reminder that I to call a specific state, I just change the box_locations and player_position. the reason is that the only things that changes in ``Game`` Object  is this two things."
   ]
  },
  {
   "cell_type": "code",
   "execution_count": 4,
   "metadata": {},
   "outputs": [],
   "source": [
    "def solver_bfs(game_map):\n",
    "\n",
    "    State = Game(game_map)\n",
    "\n",
    "    #a function that gives player position and return the index of it in Visited Array\n",
    "    def hash_idx(player_position, height) -> int:\n",
    "        return player_position[0] * height + player_position[1]\n",
    "    \n",
    "    #number of Visited States\n",
    "    Count_Visited = 1\n",
    "    \n",
    "    #Queue contain (player position, box positions, path)\n",
    "    Q = queue.Queue()\n",
    "    Q.put((State.get_player_position(), tuple(State.get_box_locations()), []))\n",
    "\n",
    "    map_height = State.height\n",
    "    map_width = State.width\n",
    "\n",
    "    #defining Visited Array\n",
    "    Visited = [set() for i in range(map_height*map_width)]\n",
    "    Visited[hash_idx(State.get_player_position(), map_height)].add(tuple(State.get_box_locations()))\n",
    "\n",
    "    while not Q.empty():\n",
    "        Player_Position, Box_Position, Path = Q.get()\n",
    "\n",
    "        #Set the State\n",
    "        State.set_player_position(Player_Position)\n",
    "        State.set_box_positions(list(Box_Position))\n",
    "\n",
    "        #terminate if we find a solution\n",
    "        if State.is_game_won():\n",
    "            return ''.join(Path), Count_Visited\n",
    "\n",
    "        for direction in ['U', 'D', 'R', 'L']:\n",
    "            result = State.apply_move(direction)\n",
    "\n",
    "            #if the move is valid then:\n",
    "            if result:\n",
    "                New_Player_Position = State.get_player_position()\n",
    "                New_Box_Position = tuple(State.get_box_locations())\n",
    "\n",
    "                State.set_player_position(Player_Position)\n",
    "                State.set_box_positions(list(Box_Position))\n",
    "\n",
    "                index = hash_idx(New_Player_Position, map_height)\n",
    "\n",
    "                #if the New State has not visited yet then:\n",
    "                if New_Box_Position not in Visited[index]:\n",
    "\n",
    "                    #Visit the State and add it to the queue\n",
    "                    Visited[index].add(New_Box_Position)\n",
    "                    Count_Visited += 1\n",
    "                    Q.put((New_Player_Position, New_Box_Position, Path + [direction]))\n",
    "\n",
    "    return None, Count_Visited"
   ]
  },
  {
   "cell_type": "markdown",
   "metadata": {},
   "source": [
    "### Part 4: DFS"
   ]
  },
  {
   "cell_type": "markdown",
   "metadata": {},
   "source": [
    "#### dfs : generate all solution"
   ]
  },
  {
   "cell_type": "markdown",
   "metadata": {},
   "source": [
    "in this implementation, every solution to the game will be discover. That it means that the whole States of the game will be discoversd. but the question does not ask this from us."
   ]
  },
  {
   "cell_type": "code",
   "execution_count": 5,
   "metadata": {},
   "outputs": [],
   "source": [
    "def DFS(State: Game):\n",
    "    Initial = (State.get_player_position(), tuple(State.get_box_locations()))\n",
    "    Visited = set()\n",
    "    Visited.add(Initial)\n",
    "    solutions = [] \n",
    "\n",
    "    def dfs(path, visited: set): \n",
    "        State.set_player_position(Initial[0])\n",
    "        State.set_box_positions(Initial[1])\n",
    "        State.apply_moves(path)\n",
    "\n",
    "        if State.is_game_won():\n",
    "            print(''.join(path))\n",
    "            solutions.append(''.join(path))\n",
    "            return\n",
    "        \n",
    "        Current = (State.get_player_position(), tuple(State.get_box_locations()))\n",
    "        \n",
    "        for direction in ['U', 'D', 'L', 'R']:\n",
    "            State.set_player_position(Current[0])\n",
    "            State.set_box_positions(Current[1])\n",
    "            result = State.apply_move(direction)\n",
    "            if result:\n",
    "                New_State = (State.get_player_position(), tuple(State.get_box_locations()))\n",
    "                if New_State not in visited:\n",
    "                    new_visited = set(visited)\n",
    "                    new_visited.add(New_State)\n",
    "                    dfs(path + [direction], new_visited)\n",
    "    \n",
    "    dfs([], Visited)\n",
    "    return solutions"
   ]
  },
  {
   "cell_type": "markdown",
   "metadata": {},
   "source": [
    "#### dfs :"
   ]
  },
  {
   "cell_type": "markdown",
   "metadata": {},
   "source": [
    "in this implementation, the algorithm terminates when it finds first solution. there is two approches to implement DFS:\n",
    "- use stack\n",
    "- use recursive functions\n",
    "\n",
    "because TA asked us to unvisit the visited State when we backtrack from a state, I choose second approches, because it is easier to handle the ``Visited`` set."
   ]
  },
  {
   "cell_type": "code",
   "execution_count": 6,
   "metadata": {},
   "outputs": [],
   "source": [
    "def solver_dfs(game_map):\n",
    "\n",
    "    State  = Game(game_map)\n",
    "    \n",
    "    #Initial State, Start of the game\n",
    "    Initial = (State.get_player_position(), tuple(State.get_box_locations()))\n",
    "    Visited = set()\n",
    "    Visited.add(Initial)\n",
    "\n",
    "    Count_Visited = 1\n",
    "\n",
    "    def dfs(path):\n",
    "        nonlocal Count_Visited\n",
    "        \n",
    "        Current = (State.get_player_position(), tuple(State.get_box_locations()))\n",
    "        \n",
    "        if State.is_game_won():\n",
    "            return ''.join(path)\n",
    "        \n",
    "        for direction in ['U', 'D', 'L', 'R']:\n",
    "            State.set_player_position(Current[0])\n",
    "            State.set_box_positions(list(Current[1]))\n",
    "            \n",
    "            if State.apply_move(direction):\n",
    "                New_State = (State.get_player_position(), tuple(State.get_box_locations()))\n",
    "                \n",
    "                if New_State not in Visited:\n",
    "                    Visited.add(New_State)\n",
    "                    Count_Visited += 1\n",
    "\n",
    "                    #Recursively run the algorithm\n",
    "                    result = dfs(path + [direction])\n",
    "                    if result:\n",
    "                        return result\n",
    "                    Visited.remove(New_State)\n",
    "        \n",
    "        return None\n",
    "\n",
    "    return dfs([]),Count_Visited"
   ]
  },
  {
   "cell_type": "markdown",
   "metadata": {},
   "source": [
    "### Part 5: IDS"
   ]
  },
  {
   "cell_type": "markdown",
   "metadata": {},
   "source": [
    "IDS (Iterative Deepening Search) algorithm combines BFS and DFS by performing DFS with increasing depth limits. This algorithm guarantees the shortest path (optimal solution) with lower memory usage than BFS. However, it works for lower depths, but it is un efficient for memory in higher depth.\n",
    "\n",
    "I have two problem to implement IDS. In one hand, I should consider that we do dfs in each depth, and when we backtrack from a state, we should unvisit that state (just like in dfs). In the other hand, if we just do dfs for each depth from begining, we do so much unneccery work, because when we want to perform a dfs for depth 14, we compute all depth 13 while we had computed the depth 13 in last iteration. so we should store each state in each depth level and use it for next iteration.\n",
    "\n",
    "I implement IDS according to this as below:"
   ]
  },
  {
   "cell_type": "code",
   "execution_count": 20,
   "metadata": {},
   "outputs": [],
   "source": [
    "def solver_ids(game_map):\n",
    "    State = Game(game_map)\n",
    "    \n",
    "    def depth_limited_search(path, depth_limit, Visited):\n",
    "\n",
    "        nonlocal Count_Visited\n",
    "\n",
    "        Current = (State.get_player_position(), tuple(State.get_box_locations()))\n",
    "        \n",
    "        # Check if the current state is the goal state\n",
    "        if State.is_game_won():\n",
    "            return ''.join(path)\n",
    "        \n",
    "        # Stop if the depth limit is reached\n",
    "        if depth_limit < 0:\n",
    "            return None\n",
    "        \n",
    "        for direction in ['U', 'D', 'L', 'R']:\n",
    "            # Reset to current state before applying the move\n",
    "            State.set_player_position(Current[0])\n",
    "            State.set_box_positions(list(Current[1]))\n",
    "            \n",
    "            # Apply the move\n",
    "            if State.apply_move(direction):\n",
    "                New_Player_Position = State.get_player_position()\n",
    "                New_Box_Position = tuple(State.get_box_locations())\n",
    "            \n",
    "                new_state = (New_Player_Position, New_Box_Position)\n",
    "                \n",
    "                # Check if the new state has already been visited at this depth\n",
    "                if new_state not in Visited:\n",
    "                    Visited.add(new_state)  # Mark the new state as visited\n",
    "                    Count_Visited += 1\n",
    "                    \n",
    "                    # Recursively search\n",
    "                    result = depth_limited_search(path + [direction], depth_limit - 1, Visited)\n",
    "                    if result:\n",
    "                        return result\n",
    "                    \n",
    "                    # Backtrack: unvisit the state\n",
    "                    Visited.remove(new_state)  \n",
    "        \n",
    "        return None\n",
    "\n",
    "    depth_limit = 0\n",
    "    Count_Visited = 1\n",
    "    while depth_limit<State.height*State.width:\n",
    "        \n",
    "        Visited = set()\n",
    "        initial_state = (State.get_player_position(), tuple(State.get_box_locations()))\n",
    "        Visited.add(initial_state)\n",
    "        \n",
    "        result = depth_limited_search([], depth_limit, Visited)\n",
    "        if result:\n",
    "            return result,Count_Visited\n",
    "        \n",
    "        depth_limit += 1\n",
    "    return None,Count_Visited"
   ]
  },
  {
   "cell_type": "markdown",
   "metadata": {},
   "source": [
    "### Part 6: Question 5 "
   ]
  },
  {
   "cell_type": "markdown",
   "metadata": {},
   "source": [
    "**Question 5:** \n",
    "Explain each of the implemented algorithms and their differences and advantages compared to each other. Which algorithms produce optimal solutions?\n",
    "\n",
    "\n",
    "\n",
    "**Answer:** \n",
    "\n",
    "I explained about the implementation of this 3 algorithm before. Now let's compare!\n",
    "\n",
    "BFS:\n",
    "\n",
    "1. Explores all states level by level; so it guarantees yhe optimal solution.\n",
    "\n",
    "2. Advantages: Guarantees the shortest path (optimal solution).\n",
    "\n",
    "3. Disadvantages: High memory usage for large state spaces; because it should explore all states level by level, and the search space groath is exponantial!\n",
    "\n",
    "DFS:\n",
    "\n",
    "1. Explores as far as possible along each branch before backtracking.\n",
    "\n",
    "2. Advantages: Low memory usage.\n",
    "\n",
    "3. Disadvantages: Does not guarantee the shortest path and it can get stuck in infinite loops.\n",
    "\n",
    "IDS:\n",
    "\n",
    "1. Combines BFS and DFS by performing DFS with increasing depth limits.\n",
    "\n",
    "2. Advantages: Guarantees the shortest path (optimal solution) with lower memory usage than BFS.\n",
    "\n",
    "3. Disadvantages: Repeats work for lower depths, but this is offset by its memory efficiency.\n",
    "\n",
    "\n",
    "**a.**\n",
    "What is the problem with the DFS algorithm? Despite this, why is DFS still used?\n",
    "\n",
    "**answer:**\n",
    "DFS explores as far as possible along each branch before backtracking. As a result, it may find a solution that is not optimal. for big maps, for example map 8, it is not work properly, because in dfs, algorithm go straight forward to the leaf of search tree, and big maps have really huge search trees!\n",
    "However, DFS only needs to store the current path, making it suitable for problems with large state spaces where memory is a constraint.and it can find a solution quickly if the solution is located deep in the search tree, even if it is not optimal. so because of this, dfs is used.\n",
    "\n",
    "\n",
    "**b.**\n",
    "Considering the advantages of BFS and DFS over each other, how does the IDS algorithm combine these two algorithms, and what problems does it aim to solve?\n",
    "\n",
    "**answer:**\n",
    "\n",
    "IDS use level by level search policy; which it is given by bfs. so because of that, IDS gives us optimal solution. it explore search tree just like dfs, so its memory usage for visited states is less than BFS. IDS try to be something between BFS and DFS\n",
    "\n",
    "\n",
    "---"
   ]
  },
  {
   "cell_type": "markdown",
   "metadata": {},
   "source": [
    "### Part 7: A* and Question 7"
   ]
  },
  {
   "cell_type": "markdown",
   "metadata": {},
   "source": [
    "\n",
    "Implementation of A* Algorithm is similiar to BFS. The difference is that we use ``PriorityQueue`` which sorted by the value of cost function. cost function is the form of $$ f(n) = w*h(n) + g(n) $$ which $h(n) $ is heuristic function and $w$ is the weight.. the main problem of Implementing A* is that what heuristic should we design for the cost function? and How should be define $g(n)$? \n",
    "\n",
    "for the second, I define $ g(n) $ as the depth of the path that we have come so far. If $w = 0$ the performance of A* become just like BFS; because in BFS, States in queue are sorted based on the depth-level.\n",
    "\n",
    "for the first one, one of the most simple answer is manhattan distance. This heuristic function computes the sum of Manhattan distances between each box and its goal. It does not consider portals or walls or the player's position. sadly it is not working for test case 9."
   ]
  },
  {
   "cell_type": "code",
   "execution_count": 8,
   "metadata": {},
   "outputs": [],
   "source": [
    "def manhattan_distance(State:Game):\n",
    "        box_positions = State.get_box_locations()\n",
    "        goal_positions = State.get_goal_locations()\n",
    "        \n",
    "        total_distance = 0\n",
    "        for box, goal in zip(box_positions, goal_positions):\n",
    "            total_distance += abs(box[0] - goal[0]) + abs(box[1] - goal[1])\n",
    "        return total_distance"
   ]
  },
  {
   "cell_type": "markdown",
   "metadata": {},
   "source": [
    "we can improve and modify the performance of manhattan distance by considering portals. the  manhattan distance is accurate when there is no walls and portals. but in challangable games we have both of it. by considering portal; we can have more accurate appromiximation of distance. ``heuristic_portal``, calculates the minimum distance between each box and its corresponding goal, considering the use of portals as shortcuts"
   ]
  },
  {
   "cell_type": "code",
   "execution_count": 9,
   "metadata": {},
   "outputs": [],
   "source": [
    "def heuristic_portal(State:Game):\n",
    "    portals_position = State.get_portal_locations()\n",
    "    box_positions = State.get_box_locations()\n",
    "    goal_positions = State.get_goal_locations()\n",
    "\n",
    "    total_dist = 0\n",
    "\n",
    "    for i in range(len(box_positions)): \n",
    "        box = box_positions[i]\n",
    "        goal = goal_positions[i]\n",
    "\n",
    "        min_dist = abs(box[0] - goal[0]) + abs(box[1] - goal[1])\n",
    "\n",
    "        for portal_entry, portal_exit in portals_position:\n",
    "            entry_to_exit_dist = abs(box[0] - portal_entry[0]) + abs(box[1] - portal_entry[1]) + abs(portal_exit[0] - goal[0]) + abs(portal_exit[1] - goal[1])\n",
    "            exit_to_entry_dist = abs(box[0] - portal_exit[0]) + abs(box[1] - portal_exit[1]) + abs(portal_entry[0] - goal[0]) + abs(portal_entry[1] - goal[1])\n",
    "\n",
    "            min_dist = min(min_dist, entry_to_exit_dist, exit_to_entry_dist)\n",
    "\n",
    "        total_dist += min_dist\n",
    "\n",
    "    return total_dist"
   ]
  },
  {
   "cell_type": "markdown",
   "metadata": {},
   "source": [
    "\n",
    "\n",
    "**Question 7:** \n",
    "Explain the heuristics you introduced in the informed search section and check if they are admissible and consistant.\n",
    "\n",
    "\n",
    "\n",
    "\n",
    "**Answer:** \n",
    "\n",
    "A heuristic is admissible if it never overestimates the true cost to reach the goal. and a heuristic is consistent if for every move, the estimated cost never exceeds the actual cost between states.\n",
    "\n",
    "Manhattan Heuristic is Admissible because tt always underestimates the true cost since only horizontal or vertical move is valid. and also it is Consistent because The heuristic decreases at most by 1 for each valid move. the player at every state at least do one step that make him close to the goal.\n",
    "\n",
    "``heuristic_portal`` is Admissible; because it tries to estimate the shortest possible path including portals to move boxesx, so it never overestimates. And it is Consistent because Moving a box reduces the heuristic by at most the actual cost of the move.\n",
    "\n",
    "\n",
    "\n",
    "---"
   ]
  },
  {
   "cell_type": "markdown",
   "metadata": {},
   "source": [
    "at the end, we implement weighted A* algorithm:\n",
    "we set ``weight=4`` initially. because for map 9 ``weight < 3`` does not working.\n",
    "Intuitively, increasing the weight makes the heuristic function more effective and decreasing the weight, makes A* Algorithm similar to the BFS, because $ g(n) $ factor in $f(n)$ is based on depth and BFS the elements in queues are sorted based on their depth."
   ]
  },
  {
   "cell_type": "code",
   "execution_count": 10,
   "metadata": {},
   "outputs": [],
   "source": [
    "def solver_astar(game_map, heuristic_func=heuristic_portal, weight=4):\n",
    "    def hash_idx(player_position, height) -> int:\n",
    "        return player_position[0] * height + player_position[1]\n",
    "\n",
    "    State = Game(game_map)\n",
    "    \n",
    "    Count_Visited = 1\n",
    "    \n",
    "    Priority_Queue = []\n",
    "    heapq.heappush(Priority_Queue, (0, State.get_player_position(), tuple(State.get_box_locations()), []))\n",
    "\n",
    "    map_height = State.height\n",
    "    map_width = State.width\n",
    "\n",
    "    Visited = [set() for _ in range(map_height * map_width)]\n",
    "    initial_index = hash_idx(State.get_player_position(), map_height)\n",
    "    Visited[initial_index].add(tuple(State.get_box_locations()))\n",
    "\n",
    "    while Priority_Queue:\n",
    "        _, Player_Position, Box_Position, Path = heapq.heappop(Priority_Queue)\n",
    "\n",
    "        State.set_player_position(Player_Position)\n",
    "        State.set_box_positions(list(Box_Position))\n",
    "\n",
    "        if State.is_game_won():\n",
    "            return ''.join(Path), Count_Visited\n",
    "\n",
    "        for direction in ['U', 'D', 'R', 'L']:\n",
    "            result = State.apply_move(direction)\n",
    "\n",
    "            if result:\n",
    "                New_Player_Position = State.get_player_position()\n",
    "                New_Box_Position = tuple(State.get_box_locations())\n",
    "\n",
    "                index = hash_idx(New_Player_Position, map_height)\n",
    "                if New_Box_Position not in Visited[index]:\n",
    "                    Visited[index].add(New_Box_Position)\n",
    "                    Count_Visited += 1\n",
    "\n",
    "                    g = len(Path) + 1\n",
    "                    h = heuristic_func(State)\n",
    "                    f = g + weight*h\n",
    "                    heapq.heappush(Priority_Queue, (f, New_Player_Position, New_Box_Position, Path + [direction]))\n",
    "\n",
    "                State.set_player_position(Player_Position)\n",
    "                State.set_box_positions(list(Box_Position))\n",
    "\n",
    "    return None, Count_Visited"
   ]
  },
  {
   "cell_type": "markdown",
   "metadata": {},
   "source": [
    "### Part 8: Questions  6 and 8"
   ]
  },
  {
   "cell_type": "code",
   "execution_count": 11,
   "metadata": {},
   "outputs": [],
   "source": [
    "SOLVERS = {\n",
    "    \"BFS\": solver_bfs,\n",
    "    \"DFS\": solver_dfs,\n",
    "    \"IDS\": solver_ids,\n",
    "    \"A*\": solver_astar\n",
    "} \n",
    "\n",
    "def solve(map, method):  \n",
    "    \n",
    "    if not is_valid_input(map, map_file_indices, method, SOLVERS):\n",
    "        return\n",
    "    \n",
    "    file_name = \"map\" + str(map) + \".txt\"\n",
    "    with open('./assets/maps/' + file_name) as f:\n",
    "        game_map = f.read()\n",
    "    \n",
    "    start_time = time.time()\n",
    "    moves, numof_visited_states = SOLVERS[method](game_map)\n",
    "    end_time = time.time()\n",
    "    print(f\"{method} took {round(end_time - start_time, 2)} seconds on map {map} and visited {numof_visited_states} states.\")\n",
    "    \n",
    "    if moves is None:\n",
    "        print(\"No Solution Found!\")\n",
    "    else:\n",
    "        print(f\"{len(moves)} moves were used: {moves}\")\n",
    "            "
   ]
  },
  {
   "cell_type": "markdown",
   "metadata": {},
   "source": [
    "#### Question 6:\n",
    "\n",
    "Implement the mentioned algorithms and justify the answers to Question 5 with your results."
   ]
  },
  {
   "cell_type": "markdown",
   "metadata": {},
   "source": [
    "**BFS for all maps exept map 9**"
   ]
  },
  {
   "cell_type": "code",
   "execution_count": 12,
   "metadata": {},
   "outputs": [
    {
     "name": "stdout",
     "output_type": "stream",
     "text": [
      "BFS took 0.0 seconds on map 1 and visited 47 states.\n",
      "7 moves were used: UDDURLL\n",
      "BFS took 0.0 seconds on map 2 and visited 26 states.\n",
      "6 moves were used: LUDDUL\n",
      "BFS took 0.0 seconds on map 3 and visited 130 states.\n",
      "13 moves were used: ULDDUUUURDDDD\n",
      "BFS took 0.0 seconds on map 4 and visited 2 states.\n",
      "No Solution Found!\n",
      "BFS took 0.07 seconds on map 5 and visited 7816 states.\n",
      "15 moves were used: ULDDRDLLLUUURUL\n",
      "BFS took 0.2 seconds on map 6 and visited 20823 states.\n",
      "34 moves were used: UUUUURRRLLLLLLLDDDDDDDDDRDLRRRRRRR\n",
      "BFS took 8.82 seconds on map 7 and visited 802173 states.\n",
      "34 moves were used: RURRDDDDLDRUUUULLLRDRDRDDLLDLLUUDR\n",
      "BFS took 0.12 seconds on map 8 and visited 12996 states.\n",
      "17 moves were used: URURDDLDRRRRURDDR\n",
      "BFS took 2.67 seconds on map 10 and visited 255601 states.\n",
      "46 moves were used: RRRRRDRULURULLLULDRUUULDRDLDRRDRULURURDDRDLLLL\n"
     ]
    }
   ],
   "source": [
    "def solve_all():\n",
    "    for map in range(min(map_file_indices), 11):\n",
    "        if map==9:\n",
    "            continue\n",
    "        solver = {\"BFS\": solver_bfs}\n",
    "        for method in solver.keys():\n",
    "            solve(map, method)\n",
    "\n",
    "solve_all()"
   ]
  },
  {
   "cell_type": "markdown",
   "metadata": {},
   "source": [
    "**DFS for maps 1 - 4**"
   ]
  },
  {
   "cell_type": "code",
   "execution_count": 13,
   "metadata": {},
   "outputs": [
    {
     "name": "stdout",
     "output_type": "stream",
     "text": [
      "DFS took 0.0 seconds on map 1 and visited 11 states.\n",
      "7 moves were used: UDDULRR\n",
      "DFS took 0.0 seconds on map 2 and visited 8 states.\n",
      "6 moves were used: LUDDUL\n",
      "DFS took 0.0 seconds on map 3 and visited 139 states.\n",
      "33 moves were used: ULUURDULDDDUUURDDUULDDDDUUUURDDDD\n",
      "DFS took 0.0 seconds on map 4 and visited 2 states.\n",
      "No Solution Found!\n"
     ]
    }
   ],
   "source": [
    "def solve_all():\n",
    "    for map in range(1, 5):\n",
    "        if map==9:\n",
    "            continue\n",
    "        solver = {\"DFS\": solver_dfs}\n",
    "        for method in solver.keys():\n",
    "            solve(map, method)\n",
    "\n",
    "solve_all()"
   ]
  },
  {
   "cell_type": "markdown",
   "metadata": {},
   "source": [
    "**IDS for maps 1 - 5**"
   ]
  },
  {
   "cell_type": "code",
   "execution_count": 21,
   "metadata": {},
   "outputs": [
    {
     "name": "stdout",
     "output_type": "stream",
     "text": [
      "IDS took 0.0 seconds on map 1 and visited 61 states.\n",
      "6 moves were used: LUDDUL\n",
      "IDS took 0.0 seconds on map 2 and visited 58 states.\n",
      "6 moves were used: LUDDUL\n",
      "IDS took 0.01 seconds on map 3 and visited 1227 states.\n",
      "13 moves were used: ULDDUUUURDDDD\n",
      "IDS took 0.0 seconds on map 4 and visited 36 states.\n",
      "No Solution Found!\n",
      "IDS took 2.25 seconds on map 5 and visited 552593 states.\n",
      "15 moves were used: ULDDRDLLLUUURUL\n"
     ]
    }
   ],
   "source": [
    "def solve_all():\n",
    "    for map in range(1, 6):\n",
    "        if map==9:\n",
    "            continue\n",
    "        solver = {\"IDS\": solver_ids}\n",
    "        for method in solver.keys():\n",
    "            solve(map, method)\n",
    "\n",
    "solve_all()"
   ]
  },
  {
   "cell_type": "markdown",
   "metadata": {},
   "source": [
    "**Answer:**\n",
    "\n",
    "As we see, the BFS is faster than IDS and DFS to find solution but has more memory usage than this two. "
   ]
  },
  {
   "cell_type": "markdown",
   "metadata": {},
   "source": [
    "#### Question 8:\n",
    "\n",
    "Run the algorithm using all the heuristics you introduced and compare their results."
   ]
  },
  {
   "cell_type": "markdown",
   "metadata": {},
   "source": [
    "**Run A_astar with menhattan distance as heuristic**"
   ]
  },
  {
   "cell_type": "code",
   "execution_count": 15,
   "metadata": {},
   "outputs": [
    {
     "name": "stdout",
     "output_type": "stream",
     "text": [
      "A* with manhattan took 0.0 seconds on map 1 and visited 46 states.\n",
      "7 moves were used: DURLUDL\n",
      "A* with manhattan took 0.0 seconds on map 2 and visited 24 states.\n",
      "6 moves were used: LDUUDL\n",
      "A* with manhattan took 0.0 seconds on map 3 and visited 106 states.\n",
      "13 moves were used: ULDDUUUURDDDD\n",
      "A* with manhattan took 0.0 seconds on map 4 and visited 2 states.\n",
      "No Solution Found!\n",
      "A* with manhattan took 0.01 seconds on map 5 and visited 881 states.\n",
      "15 moves were used: LULDDRDLLUUURUL\n",
      "A* with manhattan took 0.07 seconds on map 6 and visited 7168 states.\n",
      "34 moves were used: RRDDDDDRLLLLLLLUUUUUUUUURULRRRRRRR\n",
      "A* with manhattan took 0.6 seconds on map 7 and visited 56211 states.\n",
      "34 moves were used: RURRDDDDLDRUUUULLLRDRDRDDLLDLLURLU\n",
      "A* with manhattan took 0.0 seconds on map 8 and visited 522 states.\n",
      "19 moves were used: URRRRRRRRRRRRRURDDR\n",
      "A* with manhattan took 0.66 seconds on map 10 and visited 69148 states.\n",
      "46 moves were used: RRRRRDRULURULLLULLDRUULDRDLDRRDRULURURDDRDLLLL\n"
     ]
    }
   ],
   "source": [
    "for map in range(1, 11):\n",
    "    if map==9:\n",
    "        continue\n",
    "    loadmap = load_map(map)\n",
    "\n",
    "    start_time = time.time()\n",
    "    moves, numof_visited_states = solver_astar(loadmap,manhattan_distance,1)\n",
    "    end_time = time.time()\n",
    "    print(f\"A* with manhattan took {round(end_time - start_time, 2)} seconds on map {map} and visited {numof_visited_states} states.\")\n",
    "    \n",
    "    if moves is None:\n",
    "        print(\"No Solution Found!\")\n",
    "    else:\n",
    "        print(f\"{len(moves)} moves were used: {moves}\")"
   ]
  },
  {
   "cell_type": "markdown",
   "metadata": {},
   "source": [
    "**Run weighted A_astar with menhattan distance as heuristic with weight = 3**"
   ]
  },
  {
   "cell_type": "code",
   "execution_count": 16,
   "metadata": {},
   "outputs": [
    {
     "name": "stdout",
     "output_type": "stream",
     "text": [
      "A* with manhattan took 0.0 seconds on map 1 and visited 23 states.\n",
      "7 moves were used: UDLRRLD\n",
      "A* with manhattan took 0.0 seconds on map 2 and visited 16 states.\n",
      "6 moves were used: LUDLRD\n",
      "A* with manhattan took 0.0 seconds on map 3 and visited 34 states.\n",
      "13 moves were used: ULDDUUUURDDDD\n",
      "A* with manhattan took 0.0 seconds on map 4 and visited 2 states.\n",
      "No Solution Found!\n",
      "A* with manhattan took 0.0 seconds on map 5 and visited 149 states.\n",
      "15 moves were used: LULDLRDRDLLULUU\n",
      "A* with manhattan took 0.02 seconds on map 6 and visited 2013 states.\n",
      "34 moves were used: RRDDDDDRLLLLLLLUUUUUUUUURULRRRRRRR\n",
      "A* with manhattan took 0.09 seconds on map 7 and visited 9384 states.\n",
      "38 moves were used: RURRDLLLRRRDDDLDRUUUULLDRDRDDLLDLLUUDR\n",
      "A* with manhattan took 0.0 seconds on map 8 and visited 76 states.\n",
      "19 moves were used: URRRRRRRRRRRRRURDDR\n",
      "A* with manhattan took 12.57 seconds on map 9 and visited 963629 states.\n",
      "59 moves were used: RRLURRRDLURDLLULURURDURDRDLRRDLLDLULUUUUUULLLURRURDDDDDDLDR\n",
      "A* with manhattan took 0.2 seconds on map 10 and visited 16715 states.\n",
      "46 moves were used: RRRRRDRULURULLLULLDRUULDRDLDRRDRULURURDDRDLLLL\n"
     ]
    }
   ],
   "source": [
    "for map in range(1, 11):\n",
    "    \n",
    "    loadmap = load_map(map)\n",
    "\n",
    "    start_time = time.time()\n",
    "    moves, numof_visited_states = solver_astar(loadmap,manhattan_distance,3)\n",
    "    end_time = time.time()\n",
    "    print(f\"A* with manhattan took {round(end_time - start_time, 2)} seconds on map {map} and visited {numof_visited_states} states.\")\n",
    "    \n",
    "    if moves is None:\n",
    "        print(\"No Solution Found!\")\n",
    "    else:\n",
    "        print(f\"{len(moves)} moves were used: {moves}\")"
   ]
  },
  {
   "cell_type": "markdown",
   "metadata": {},
   "source": [
    "**Run A_astar with heuristic_portal as heuristic**"
   ]
  },
  {
   "cell_type": "code",
   "execution_count": 17,
   "metadata": {},
   "outputs": [
    {
     "name": "stdout",
     "output_type": "stream",
     "text": [
      "A* with heuristic_portal took 0.0 seconds on map 1 and visited 46 states.\n",
      "7 moves were used: DURLUDL\n",
      "A* with heuristic_portal took 0.0 seconds on map 2 and visited 24 states.\n",
      "6 moves were used: LDUUDL\n",
      "A* with heuristic_portal took 0.0 seconds on map 3 and visited 106 states.\n",
      "13 moves were used: ULDDUUUURDDDD\n",
      "A* with heuristic_portal took 0.0 seconds on map 4 and visited 2 states.\n",
      "No Solution Found!\n",
      "A* with heuristic_portal took 0.01 seconds on map 5 and visited 881 states.\n",
      "15 moves were used: LULDDRDLLUUURUL\n",
      "A* with heuristic_portal took 0.08 seconds on map 6 and visited 7168 states.\n",
      "34 moves were used: RRDDDDDRLLLLLLLUUUUUUUUURULRRRRRRR\n",
      "A* with heuristic_portal took 0.78 seconds on map 7 and visited 56211 states.\n",
      "34 moves were used: RURRDDDDLDRUUUULLLRDRDRDDLLDLLURLU\n",
      "A* with heuristic_portal took 0.01 seconds on map 8 and visited 739 states.\n",
      "17 moves were used: URURDDLDRRRRURDDR\n",
      "A* with heuristic_portal took 1.36 seconds on map 10 and visited 79898 states.\n",
      "46 moves were used: RRRRRDRULURULLLULLDRUULDRDLDRRDRULURURDDRDLLLL\n"
     ]
    }
   ],
   "source": [
    "for map in range(1, 11):\n",
    "    if map==9:\n",
    "        continue\n",
    "    \n",
    "    loadmap = load_map(map)\n",
    "\n",
    "    start_time = time.time()\n",
    "    moves, numof_visited_states = solver_astar(loadmap,heuristic_portal,1)\n",
    "    end_time = time.time()\n",
    "    print(f\"A* with heuristic_portal took {round(end_time - start_time, 2)} seconds on map {map} and visited {numof_visited_states} states.\")\n",
    "    \n",
    "    if moves is None:\n",
    "        print(\"No Solution Found!\")\n",
    "    else:\n",
    "        print(f\"{len(moves)} moves were used: {moves}\")"
   ]
  },
  {
   "cell_type": "markdown",
   "metadata": {},
   "source": [
    "**Run weighted A_astar with heuristic_portal as heuristic with weight = 3**"
   ]
  },
  {
   "cell_type": "code",
   "execution_count": 18,
   "metadata": {},
   "outputs": [
    {
     "name": "stdout",
     "output_type": "stream",
     "text": [
      "A* with heuristic_portal took 0.0 seconds on map 1 and visited 23 states.\n",
      "7 moves were used: UDLRRLD\n",
      "A* with heuristic_portal took 0.0 seconds on map 2 and visited 16 states.\n",
      "6 moves were used: LUDLRD\n",
      "A* with heuristic_portal took 0.0 seconds on map 3 and visited 34 states.\n",
      "13 moves were used: ULDDUUUURDDDD\n",
      "A* with heuristic_portal took 0.0 seconds on map 4 and visited 2 states.\n",
      "No Solution Found!\n",
      "A* with heuristic_portal took 0.0 seconds on map 5 and visited 149 states.\n",
      "15 moves were used: LULDLRDRDLLULUU\n",
      "A* with heuristic_portal took 0.03 seconds on map 6 and visited 2013 states.\n",
      "34 moves were used: RRDDDDDRLLLLLLLUUUUUUUUURULRRRRRRR\n",
      "A* with heuristic_portal took 0.14 seconds on map 7 and visited 9384 states.\n",
      "38 moves were used: RURRDLLLRRRDDDLDRUUUULLDRDRDDLLDLLUUDR\n",
      "A* with heuristic_portal took 0.0 seconds on map 8 and visited 367 states.\n",
      "21 moves were used: URURDDDDLDRRRRLUURRDR\n",
      "A* with heuristic_portal took 2.56 seconds on map 9 and visited 171519 states.\n",
      "55 moves were used: RRLURRRRDRDLDLULULURURDURRDRDLLUULLUUULLLURRURDDDDDDLDR\n",
      "A* with heuristic_portal took 0.04 seconds on map 10 and visited 3438 states.\n",
      "46 moves were used: RRRRRDRULURULLLULLDRUULDRDLDRRDRULURURDDRDLLLL\n"
     ]
    }
   ],
   "source": [
    "for map in range(1, 11):\n",
    "    \n",
    "    loadmap = load_map(map)\n",
    "\n",
    "    start_time = time.time()\n",
    "    moves, numof_visited_states = solver_astar(loadmap,heuristic_portal,3)\n",
    "    end_time = time.time()\n",
    "    print(f\"A* with heuristic_portal took {round(end_time - start_time, 2)} seconds on map {map} and visited {numof_visited_states} states.\")\n",
    "    \n",
    "    if moves is None:\n",
    "        print(\"No Solution Found!\")\n",
    "    else:\n",
    "        print(f\"{len(moves)} moves were used: {moves}\")"
   ]
  },
  {
   "cell_type": "markdown",
   "metadata": {},
   "source": [
    "### Part 9: Question 9 and Results"
   ]
  },
  {
   "cell_type": "markdown",
   "metadata": {},
   "source": [
    "we can conclude all the codes and algorithms above in this table:"
   ]
  },
  {
   "cell_type": "markdown",
   "metadata": {},
   "source": [
    "| Algorithm      | Optimality      | Memory Usage     | Speed            | Advantages                                   | Disadvantages                              |\n",
    "|----------------|-----------------|------------------|------------------|---------------------------------------------|-------------------------------------------|\n",
    "| **BFS**        | Yes             | High             | Fast             | Guarantees shortest path                    | High memory usage for large state spaces  |\n",
    "| **DFS**        | No              | Low              | Slow  | Low memory usage; quick for deep solutions | No guarantee of optimality; infinite loops |\n",
    "| **IDS**        | Yes             | Low              | Moderate         | Combines optimality and memory efficiency   | Repeats work for lower depths             |\n",
    "| **A***         | Yes (if heuristic is admissible) | Moderate | Fast (with good heuristic) | Efficient with good heuristic               | Requires a good heuristic; higher memory  |\n",
    "| **Weighted A***| No (if w > 1)   | Moderate         | Very Fast        | Faster than A*                              | May produce suboptimal solutions          |"
   ]
  },
  {
   "cell_type": "markdown",
   "metadata": {},
   "source": [
    "#### map 1:"
   ]
  },
  {
   "cell_type": "markdown",
   "metadata": {},
   "source": [
    "| Algorithm         | Execution Time (s) | Solution (Output) | States Visited | Length of Path |\n",
    "|-------------------|--------------------|-------------------|----------------|----------------|\n",
    "| BFS               |      0.0           |   UDDURLL         |     47         |  7             | \n",
    "| DFS               |      0.0           |   UDDULRR         |     11         |  7             |\n",
    "| IDS               |      0.0           |   LUDDUL          |     61         |  6             |\n",
    "| A*, M. dist.      |      0.0           |   DURLUDL         |     46         |  7             |\n",
    "| W. A*, M. dist.   |      0.0           |   UDLRRLD         |     23         |  7             |\n",
    "| A*, h_p           |      0.0           |   DURLUDL         |     46         |  7             |\n",
    "| W. A*, h_p        |      0.0           |   UDLRRLD         |     23         |  7             |"
   ]
  },
  {
   "cell_type": "markdown",
   "metadata": {},
   "source": [
    "#### map 2:"
   ]
  },
  {
   "cell_type": "markdown",
   "metadata": {},
   "source": [
    "| Algorithm         | Execution Time (s) | Solution (Output) | States Visited | Length of Path |\n",
    "|-------------------|--------------------|-------------------|----------------|----------------|\n",
    "| BFS               |      0.0           |   LUDDUL          |     26         |  6             | \n",
    "| DFS               |      0.0           |   LUDDUL          |     8          |  6             |\n",
    "| IDS               |      0.0           |   LUDDUL          |     58         |  6             |\n",
    "| A*, M. dist.      |      0.0           |   LDUUDL          |     24         |  6             |\n",
    "| W. A*, M. dist.   |      0.0           |   LUDLRD          |     16         |  6             |\n",
    "| A*, h_p           |      0.0           |   LDUUDL          |     24         |  6             |\n",
    "| W. A*, h_p        |      0.0           |   LUDLRD          |     16         |  6             |"
   ]
  },
  {
   "cell_type": "markdown",
   "metadata": {},
   "source": [
    "#### map 3:"
   ]
  },
  {
   "cell_type": "markdown",
   "metadata": {},
   "source": [
    "| Algorithm         | Execution Time (s) | Solution (Output) | States Visited | Length of Path |\n",
    "|-------------------|--------------------|-------------------|----------------|----------------|\n",
    "| BFS               |      0.0           |   ULDDUUUURDDDD                           |     130         |  13             | \n",
    "| DFS               |      0.0           |   ULUURDULDDDUUURDDUULDDDDUUUURDDDD |     139          |  33             |\n",
    "| IDS               |      0.01          |   ULDDUUUURDDDD                     |   1227         |  13             |\n",
    "| A*, M. dist.      |      0.0           |   ULDDUUUURDDDD                     |    106         |  13             |\n",
    "| W. A*, M. dist.   |      0.0           |   ULDDUUUURDDDD                     |     34         |  13             |\n",
    "| A*, h_p           |      0.0           |   ULDDUUUURDDDD                     |    106         |  13             |\n",
    "| W. A*, h_p        |      0.0           |   ULDDUUUURDDDD                     |     34         |  13             |"
   ]
  },
  {
   "cell_type": "markdown",
   "metadata": {},
   "source": [
    "#### map 4:"
   ]
  },
  {
   "cell_type": "markdown",
   "metadata": {},
   "source": [
    "| Algorithm         | Execution Time (s) | Solution (Output) | States Visited | Length of Path |\n",
    "|-------------------|--------------------|-------------------|----------------|----------------|\n",
    "| BFS               |      0.0           |   No          |     2         |  0             | \n",
    "| DFS               |      0.0           |   No          |     2          |  0             |\n",
    "| IDS               |      0.0           |   No          |     3         |  0             |\n",
    "| A*, M. dist.      |      0.0           |   No          |     2         |  0             |\n",
    "| W. A*, M. dist.   |      0.0           |   No          |     2         |  0             |\n",
    "| A*, h_p           |      0.0           |   No          |     2         |  0             |\n",
    "| W. A*, h_p        |      0.0           |   No          |     2         |  0             |"
   ]
  },
  {
   "cell_type": "markdown",
   "metadata": {},
   "source": [
    "#### map 5:"
   ]
  },
  {
   "cell_type": "markdown",
   "metadata": {},
   "source": [
    "| Algorithm         | Execution Time (s) | Solution (Output) | States Visited | Length of Path |\n",
    "|-------------------|--------------------|-------------------|----------------|----------------|\n",
    "| BFS               |      0.07          |   ULDDRDLLLUUURUL          |     7816         |  15             | \n",
    "| IDS               |      2.25           |   ULDDRDLLLUUURUL          |     552593         |  15             |\n",
    "| A*, M. dist.      |      0.01           |   LULDDRDLLUUURUL          |     881         |  15             |\n",
    "| W. A*, M. dist.   |      0.0           |   LULDLRDRDLLULUU          |     149         |  15             |\n",
    "| A*, h_p           |      0.01           |   LULDDRDLLUUURUL          |     881         |  15             |\n",
    "| W. A*, h_p        |      0.0           |   LULDLRDRDLLULUU          |     149         |  15             |"
   ]
  },
  {
   "cell_type": "markdown",
   "metadata": {},
   "source": [
    "#### map 6:"
   ]
  },
  {
   "cell_type": "markdown",
   "metadata": {},
   "source": [
    "| Algorithm         | Execution Time (s) | Solution (Output) | States Visited | Length of Path |\n",
    "|-------------------|--------------------|-------------------|----------------|----------------|\n",
    "| BFS               |      0.2           |   UUUUURRRLLLLLLLDDDDDDDDDRDLRRRRRRR          |     20823         |  34             | |\n",
    "| A*, M. dist.      |      0.07           |   RRDDDDDRLLLLLLLUUUUUUUUURULRRRRRRR          |     7168         |  34             |\n",
    "| W. A*, M. dist.   |      0.02           |   RRDDDDDRLLLLLLLUUUUUUUUURULRRRRRRR          |     2013         |  34             |\n",
    "| A*, h_p           |      0.08           |   RRDDDDDRLLLLLLLUUUUUUUUURULRRRRRRR          |     7168         |  34             |\n",
    "| W. A*, h_p        |      0.03           |   RRDDDDDRLLLLLLLUUUUUUUUURULRRRRRRR          |     2013         |  34             |"
   ]
  },
  {
   "cell_type": "markdown",
   "metadata": {},
   "source": [
    "#### map 7:"
   ]
  },
  {
   "cell_type": "markdown",
   "metadata": {},
   "source": [
    "| Algorithm         | Execution Time (s) | Solution (Output) | States Visited | Length of Path |\n",
    "|-------------------|--------------------|-------------------|----------------|----------------|\n",
    "| BFS               |      8.81           |   RURRDDDDLDRUUUULLLRDRDRDDLLDLLUUDR          |     802173         |  34             | |\n",
    "| A*, M. dist.      |      0.6           |   RURRDDDDLDRUUUULLLRDRDRDDLLDLLURLU          |     56211         |  34             |\n",
    "| W. A*, M. dist.   |      0.09           |   RURRDLLLRRRDDDLDRUUUULLDRDRDDLLDLLUUDR          |     9384         |  38             |\n",
    "| A*, h_p           |      0.78           |   RURRDDDDLDRUUUULLLRDRDRDDLLDLLURLU          |     56211         |  34             |\n",
    "| W. A*, h_p        |      0.14           |   RURRDLLLRRRDDDLDRUUUULLDRDRDDLLDLLUUDR          |     9384         |  38             |"
   ]
  },
  {
   "cell_type": "markdown",
   "metadata": {},
   "source": [
    "#### map 8:"
   ]
  },
  {
   "cell_type": "markdown",
   "metadata": {},
   "source": [
    "| Algorithm         | Execution Time (s) | Solution (Output) | States Visited | Length of Path |\n",
    "|-------------------|--------------------|-------------------|----------------|----------------|\n",
    "| BFS               |      0.12           |   URURDDLDRRRRURDDR          |     12996         |  17             | \n",
    "| A*, M. dist.      |      0.0           |   URRRRRRRRRRRRRURDDR          |     552         |  19             |\n",
    "| W. A*, M. dist.   |      0.0           |   URRRRRRRRRRRRRURDDR          |     76         |  19             |\n",
    "| A*, h_p           |      0.01           |   URURDDLDRRRRURDDR          |     739         |  17             |\n",
    "| W. A*, h_p        |      0.0           |   URURDDDDLDRRRRLUURRDR          |     367         |  21             |"
   ]
  },
  {
   "cell_type": "markdown",
   "metadata": {},
   "source": [
    "#### map 9:"
   ]
  },
  {
   "cell_type": "markdown",
   "metadata": {},
   "source": [
    "| Algorithm         | Execution Time (s) | Solution (Output) | States Visited | Length of Path |\n",
    "|-------------------|--------------------|-------------------|----------------|----------------|\n",
    "| W. A*, M. dist.   |      12.57           |   RRLURRRDLURDLLULURURDURDRDLRRDLLDLULUUUUUULLLURRURDDDDDDLDR          |     963629          |  59             |\n",
    "| W. A*, h_p        |      2.56           |   RRLURRRRDRDLDLULULURURDURRDRDLLUULLUUULLLURRURDDDDDDLDR          |     171519         |  55             |"
   ]
  },
  {
   "cell_type": "markdown",
   "metadata": {},
   "source": [
    "#### map 10"
   ]
  },
  {
   "cell_type": "markdown",
   "metadata": {},
   "source": [
    "| Algorithm         | Execution Time (s) | Solution (Output) | States Visited | Length of Path |\n",
    "|-------------------|--------------------|-------------------|----------------|----------------|\n",
    "| BFS               |      2.67           |   RRRRRDRULURULLLULDRUUULDRDLDRRDRULURURDDRDLLLL          |     255601         |  46      |\n",
    "| A*, M. dist.      |      0.66           |   RRRRRDRULURULLLULLDRUULDRDLDRRDRULURURDDRDLLLL          |     69148         |  46         |\n",
    "| W. A*, M. dist.   |      0.2           |   RRRRRDRULURULLLULLDRUULDRDLDRRDRULURURDDRDLLLL          |     16715         |  46        |\n",
    "| A*, h_p           |      1.36           |   RRRRRDRULURULLLULLDRUULDRDLDRRDRULURURDDRDLLLL          |     79898         |  46        |\n",
    "| W. A*, h_p        |      0.04           |   RRRRRDRULURULLLULLDRUULDRDLDRRDRULURURDDRDLLLL          |     3438         |  46     |"
   ]
  }
 ],
 "metadata": {
  "kernelspec": {
   "display_name": "Python 3",
   "language": "python",
   "name": "python3"
  },
  "language_info": {
   "codemirror_mode": {
    "name": "ipython",
    "version": 3
   },
   "file_extension": ".py",
   "mimetype": "text/x-python",
   "name": "python",
   "nbconvert_exporter": "python",
   "pygments_lexer": "ipython3",
   "version": "3.13.0"
  }
 },
 "nbformat": 4,
 "nbformat_minor": 2
}
